{
 "cells": [
  {
   "cell_type": "code",
   "execution_count": 27,
   "metadata": {},
   "outputs": [],
   "source": [
    "# 로그인을 위한 모듈 추출하기\n",
    "import requests\n",
    "from bs4 import BeautifulSoup\n",
    "from urllib.parse import urljoin\n",
    "# 아이디와 비밀번호 지정하기\n",
    "User = \"ssodrak\"\n",
    "Pass = \"dltpdud0~\"\n",
    "## 세션 시작하기\n",
    "Session = requests.session()\n",
    "# 로그인하기\n",
    "login_info = {\n",
    "    \"m_id\"      : User,\n",
    "    \"m_passwd\"  : Pass \n",
    "}\n",
    "url_login = \"https://www.hanbit.co.kr/member/login_proc.php\"\n",
    "res = Session.post(url_login, data = login_info)\n",
    "res.raise_for_status()  # 오류가 발생하면 예외가 발생합니다\n",
    "# 마이페이지 접근하기\n",
    "url_mypage = \"https://www.hanbit.co.kr/myhanbit/myhanbit.html\"\n",
    "res = Session.get(url_mypage)\n",
    "res.raise_for_status()\n",
    "\n",
    "\n",
    "import pandas as pd\n",
    "# 데이터 생성\n",
    "data = {'이름':}"
   ]
  }
 ],
 "metadata": {
  "kernelspec": {
   "display_name": "Python 3",
   "language": "python",
   "name": "python3"
  },
  "language_info": {
   "codemirror_mode": {
    "name": "ipython",
    "version": 3
   },
   "file_extension": ".py",
   "mimetype": "text/x-python",
   "name": "python",
   "nbconvert_exporter": "python",
   "pygments_lexer": "ipython3",
   "version": "3.11.4"
  },
  "orig_nbformat": 4
 },
 "nbformat": 4,
 "nbformat_minor": 2
}
