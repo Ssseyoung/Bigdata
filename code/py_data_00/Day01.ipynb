{
 "cells": [
  {
   "attachments": {},
   "cell_type": "markdown",
   "metadata": {},
   "source": [
    "행벡터 생성"
   ]
  },
  {
   "cell_type": "code",
   "execution_count": 1,
   "metadata": {},
   "outputs": [
    {
     "data": {
      "text/plain": [
       "array([60, 70, 12])"
      ]
     },
     "execution_count": 1,
     "metadata": {},
     "output_type": "execute_result"
    }
   ],
   "source": [
    "import numpy as np\n",
    "age = np.array([60,70,12])\n",
    "age"
   ]
  },
  {
   "attachments": {},
   "cell_type": "markdown",
   "metadata": {},
   "source": [
    "열벡터 생성"
   ]
  },
  {
   "cell_type": "code",
   "execution_count": 2,
   "metadata": {},
   "outputs": [
    {
     "data": {
      "text/plain": [
       "array([[60],\n",
       "       [70],\n",
       "       [12]])"
      ]
     },
     "execution_count": 2,
     "metadata": {},
     "output_type": "execute_result"
    }
   ],
   "source": [
    "age = np.array([[60],[70],[12]])\n",
    "age"
   ]
  },
  {
   "attachments": {},
   "cell_type": "markdown",
   "metadata": {},
   "source": [
    "행렬 생성"
   ]
  },
  {
   "cell_type": "code",
   "execution_count": 3,
   "metadata": {},
   "outputs": [
    {
     "data": {
      "text/plain": [
       "array([1, 2, 3, 4, 5])"
      ]
     },
     "execution_count": 3,
     "metadata": {},
     "output_type": "execute_result"
    }
   ],
   "source": [
    "age = np.arange(1,6)\n",
    "age"
   ]
  },
  {
   "attachments": {},
   "cell_type": "markdown",
   "metadata": {},
   "source": [
    "배열 원소 0, 1, 임의의 수로 채우기"
   ]
  },
  {
   "cell_type": "code",
   "execution_count": 4,
   "metadata": {},
   "outputs": [
    {
     "data": {
      "text/plain": [
       "array([[0., 0., 0.],\n",
       "       [0., 0., 0.]])"
      ]
     },
     "execution_count": 4,
     "metadata": {},
     "output_type": "execute_result"
    }
   ],
   "source": [
    "age = np.zeros((2,3))\n",
    "age"
   ]
  },
  {
   "cell_type": "code",
   "execution_count": 5,
   "metadata": {},
   "outputs": [
    {
     "data": {
      "text/plain": [
       "array([1., 1., 1., 1., 1.])"
      ]
     },
     "execution_count": 5,
     "metadata": {},
     "output_type": "execute_result"
    }
   ],
   "source": [
    "age_one = np.ones(5)\n",
    "age_one"
   ]
  },
  {
   "cell_type": "code",
   "execution_count": 6,
   "metadata": {},
   "outputs": [
    {
     "data": {
      "text/plain": [
       "array([[0.41070693, 0.70813962],\n",
       "       [0.53339246, 0.75421424]])"
      ]
     },
     "execution_count": 6,
     "metadata": {},
     "output_type": "execute_result"
    }
   ],
   "source": [
    "age_random = np.random.rand(2,2)\n",
    "age_random"
   ]
  },
  {
   "attachments": {},
   "cell_type": "markdown",
   "metadata": {},
   "source": [
    "배열 사칙연산 (더하기, add( ) )"
   ]
  },
  {
   "cell_type": "code",
   "execution_count": 7,
   "metadata": {},
   "outputs": [
    {
     "data": {
      "text/plain": [
       "array([[2, 3],\n",
       "       [4, 5]])"
      ]
     },
     "execution_count": 7,
     "metadata": {},
     "output_type": "execute_result"
    }
   ],
   "source": [
    "temp1 = np.array([[1,2],[3,4]])\n",
    "temp2 = np.array([[1,1],[1,1]])\n",
    "temp1 + temp2"
   ]
  },
  {
   "cell_type": "code",
   "execution_count": 8,
   "metadata": {},
   "outputs": [
    {
     "data": {
      "text/plain": [
       "array([[2, 3],\n",
       "       [4, 5]])"
      ]
     },
     "execution_count": 8,
     "metadata": {},
     "output_type": "execute_result"
    }
   ],
   "source": [
    "temp1 = np.array([[1,2],[3,4]])\n",
    "temp2 = np.array([[1,1],[1,1]])\n",
    "np.add(temp1, temp2)"
   ]
  },
  {
   "attachments": {},
   "cell_type": "markdown",
   "metadata": {},
   "source": [
    "배열 사칙연산 (뺄셈, subtract( ) )"
   ]
  },
  {
   "cell_type": "code",
   "execution_count": 9,
   "metadata": {},
   "outputs": [
    {
     "data": {
      "text/plain": [
       "array([[0, 1],\n",
       "       [2, 3]])"
      ]
     },
     "execution_count": 9,
     "metadata": {},
     "output_type": "execute_result"
    }
   ],
   "source": [
    "temp1 = np.array([[1,2],[3,4]])\n",
    "temp2 = np.array([[1,1],[1,1]])\n",
    "temp1 - temp2"
   ]
  },
  {
   "cell_type": "code",
   "execution_count": 10,
   "metadata": {},
   "outputs": [
    {
     "data": {
      "text/plain": [
       "array([[0, 1],\n",
       "       [2, 3]])"
      ]
     },
     "execution_count": 10,
     "metadata": {},
     "output_type": "execute_result"
    }
   ],
   "source": [
    "temp1 = np.array([[1,2],[3,4]])\n",
    "temp2 = np.array([[1,1],[1,1]])\n",
    "np.subtract(temp1, temp2)"
   ]
  },
  {
   "attachments": {},
   "cell_type": "markdown",
   "metadata": {},
   "source": [
    "배열 사칙연산 (곱셈, multiply( ) )"
   ]
  },
  {
   "cell_type": "code",
   "execution_count": 11,
   "metadata": {},
   "outputs": [
    {
     "data": {
      "text/plain": [
       "array([[2, 4],\n",
       "       [6, 8]])"
      ]
     },
     "execution_count": 11,
     "metadata": {},
     "output_type": "execute_result"
    }
   ],
   "source": [
    "temp1 = np.array([[1,2],[3,4]])\n",
    "temp2 = np.array([[2,2],[2,2]])\n",
    "temp1 * temp2"
   ]
  },
  {
   "cell_type": "code",
   "execution_count": 12,
   "metadata": {},
   "outputs": [
    {
     "data": {
      "text/plain": [
       "array([[2, 4],\n",
       "       [6, 8]])"
      ]
     },
     "execution_count": 12,
     "metadata": {},
     "output_type": "execute_result"
    }
   ],
   "source": [
    "temp1 = np.array([[1,2],[3,4]])\n",
    "temp2 = np.array([[2,2],[2,2]])\n",
    "np.multiply(temp1, temp2)"
   ]
  },
  {
   "attachments": {},
   "cell_type": "markdown",
   "metadata": {},
   "source": [
    "배열 사칙연산 (나누기, divide( ) )"
   ]
  },
  {
   "cell_type": "code",
   "execution_count": 13,
   "metadata": {},
   "outputs": [
    {
     "data": {
      "text/plain": [
       "array([[0.5, 1. ],\n",
       "       [1.5, 2. ]])"
      ]
     },
     "execution_count": 13,
     "metadata": {},
     "output_type": "execute_result"
    }
   ],
   "source": [
    "temp1 = np.array([[1,2],[3,4]])\n",
    "temp2 = np.array([[2,2],[2,2]])\n",
    "temp1 / temp2"
   ]
  },
  {
   "cell_type": "code",
   "execution_count": 14,
   "metadata": {},
   "outputs": [
    {
     "data": {
      "text/plain": [
       "array([[0.5, 1. ],\n",
       "       [1.5, 2. ]])"
      ]
     },
     "execution_count": 14,
     "metadata": {},
     "output_type": "execute_result"
    }
   ],
   "source": [
    "temp1 = np.array([[1,2],[3,4]])\n",
    "temp2 = np.array([[2,2],[2,2]])\n",
    "np.divide(temp1, temp2)"
   ]
  },
  {
   "attachments": {},
   "cell_type": "markdown",
   "metadata": {},
   "source": [
    "행렬의 곱 (결과는 스칼라)"
   ]
  },
  {
   "cell_type": "code",
   "execution_count": 15,
   "metadata": {},
   "outputs": [
    {
     "data": {
      "text/plain": [
       "array([[32]])"
      ]
     },
     "execution_count": 15,
     "metadata": {},
     "output_type": "execute_result"
    }
   ],
   "source": [
    "temp1 = np.array([[1,2,3]])\n",
    "temp2 = np.array([[4],[5],[6]])\n",
    "temp1.dot(temp2)"
   ]
  },
  {
   "attachments": {},
   "cell_type": "markdown",
   "metadata": {},
   "source": [
    "행렬의 곱 (결과는 행렬)"
   ]
  },
  {
   "cell_type": "code",
   "execution_count": 16,
   "metadata": {},
   "outputs": [
    {
     "data": {
      "text/plain": [
       "array([[22, 28],\n",
       "       [49, 64]])"
      ]
     },
     "execution_count": 16,
     "metadata": {},
     "output_type": "execute_result"
    }
   ],
   "source": [
    "temp1 = np.array([[1,2,3],[4,5,6]])\n",
    "temp2 = np.array([[1,2],[3,4],[5,6]])\n",
    "temp1.dot(temp2)"
   ]
  },
  {
   "attachments": {},
   "cell_type": "markdown",
   "metadata": {},
   "source": [
    "통계 합수 sum( )"
   ]
  },
  {
   "cell_type": "code",
   "execution_count": 17,
   "metadata": {},
   "outputs": [
    {
     "data": {
      "text/plain": [
       "array([[1, 2, 3],\n",
       "       [4, 5, 6]])"
      ]
     },
     "execution_count": 17,
     "metadata": {},
     "output_type": "execute_result"
    }
   ],
   "source": [
    "temp1 = np.array([[1,2,3], [4,5,6]])\n",
    "temp1"
   ]
  },
  {
   "cell_type": "code",
   "execution_count": 18,
   "metadata": {},
   "outputs": [
    {
     "data": {
      "text/plain": [
       "21"
      ]
     },
     "execution_count": 18,
     "metadata": {},
     "output_type": "execute_result"
    }
   ],
   "source": [
    "temp1 = np.array([[1,2,3], [4,5,6]])\n",
    "np.sum(temp1)"
   ]
  },
  {
   "cell_type": "code",
   "execution_count": 19,
   "metadata": {},
   "outputs": [
    {
     "data": {
      "text/plain": [
       "array([5, 7, 9])"
      ]
     },
     "execution_count": 19,
     "metadata": {},
     "output_type": "execute_result"
    }
   ],
   "source": [
    "temp1 = np.array([[1,2,3], [4,5,6]])\n",
    "np.sum(temp1, axis = 0)\n",
    "# axis = 0\n",
    "# 행의 원소 합계"
   ]
  },
  {
   "cell_type": "code",
   "execution_count": 20,
   "metadata": {},
   "outputs": [
    {
     "data": {
      "text/plain": [
       "array([ 6, 15])"
      ]
     },
     "execution_count": 20,
     "metadata": {},
     "output_type": "execute_result"
    }
   ],
   "source": [
    "temp1 = np.array([[1,2,3], [4,5,6]])\n",
    "np.sum(temp1, axis = 1)\n",
    "# axis = 1\n",
    "# 열의 원소 합계"
   ]
  },
  {
   "cell_type": "code",
   "execution_count": 21,
   "metadata": {},
   "outputs": [
    {
     "data": {
      "text/plain": [
       "array([2.5, 3.5, 4.5])"
      ]
     },
     "execution_count": 21,
     "metadata": {},
     "output_type": "execute_result"
    }
   ],
   "source": [
    "temp1 = np.array([[1,2,3], [4,5,6]])\n",
    "np.mean(temp1, axis = 0)\n",
    "# mean : 평균"
   ]
  },
  {
   "cell_type": "code",
   "execution_count": 22,
   "metadata": {},
   "outputs": [
    {
     "data": {
      "text/plain": [
       "3.5"
      ]
     },
     "execution_count": 22,
     "metadata": {},
     "output_type": "execute_result"
    }
   ],
   "source": [
    "temp1 = np.array([[1,2,3], [4,5,6]])\n",
    "np.median(temp1)\n",
    "# median : 중앙값"
   ]
  },
  {
   "cell_type": "code",
   "execution_count": 23,
   "metadata": {},
   "outputs": [
    {
     "data": {
      "text/plain": [
       "5.0"
      ]
     },
     "execution_count": 23,
     "metadata": {},
     "output_type": "execute_result"
    }
   ],
   "source": [
    "temp1 = np.array([[1,2,3], [4,5,6],[7,8,10]])\n",
    "np.median(temp1)\n",
    "# median : 중앙값\n",
    "# 원소의 개수가 짝수일때는 중앙값이 2개가 될 수 있으며 이 2개의 평균값을 출력"
   ]
  },
  {
   "attachments": {},
   "cell_type": "markdown",
   "metadata": {},
   "source": [
    "통계 함수 최대값 : max( )"
   ]
  },
  {
   "cell_type": "code",
   "execution_count": 24,
   "metadata": {},
   "outputs": [
    {
     "data": {
      "text/plain": [
       "6"
      ]
     },
     "execution_count": 24,
     "metadata": {},
     "output_type": "execute_result"
    }
   ],
   "source": [
    "temp1 = np.array([[1,2,3], [4,5,6]])\n",
    "np.max(temp1)"
   ]
  },
  {
   "attachments": {},
   "cell_type": "markdown",
   "metadata": {},
   "source": [
    "통계 함수 최소값 : min( )"
   ]
  },
  {
   "cell_type": "code",
   "execution_count": 25,
   "metadata": {},
   "outputs": [
    {
     "data": {
      "text/plain": [
       "1"
      ]
     },
     "execution_count": 25,
     "metadata": {},
     "output_type": "execute_result"
    }
   ],
   "source": [
    "temp1 = np.array([[1,2,3], [4,5,6]])\n",
    "np.min(temp1)"
   ]
  },
  {
   "attachments": {},
   "cell_type": "markdown",
   "metadata": {},
   "source": [
    "최대/최소값 인덱스 (위치를 반환)"
   ]
  },
  {
   "cell_type": "code",
   "execution_count": 26,
   "metadata": {},
   "outputs": [
    {
     "data": {
      "text/plain": [
       "5"
      ]
     },
     "execution_count": 26,
     "metadata": {},
     "output_type": "execute_result"
    }
   ],
   "source": [
    "temp1 = np.array([[1,2,3], [4,5,6]])\n",
    "np.argmax(temp1)"
   ]
  },
  {
   "cell_type": "code",
   "execution_count": 27,
   "metadata": {},
   "outputs": [
    {
     "data": {
      "text/plain": [
       "0"
      ]
     },
     "execution_count": 27,
     "metadata": {},
     "output_type": "execute_result"
    }
   ],
   "source": [
    "temp1 = np.array([[1,2,3], [4,5,6]])\n",
    "np.argmin(temp1)"
   ]
  },
  {
   "attachments": {},
   "cell_type": "markdown",
   "metadata": {},
   "source": [
    "통계 함수 최소값 : 분산 / 표준편차\n",
    "\n",
    "    - 표준편차 개념 : 평균에 대한 오차\n",
    "        실제 데이터 값이 평균을 기준으로 할때 얼마나 들쑥날쑥하냐를 나타내는 것\n",
    "        평균이 m이고, 표준편차가 3이라고 할때 실제 값은 m±3\n",
    "\n",
    "    - 분산 (Variance) : 편차의 제곱의 합\n",
    "        원래의 값에서 평균을 뺀 값인데, 편차는 +가 될 수도 있고, -가 될 수도 있다\n",
    "        그래서 음수를 양수화하기 위해 제곱을 해서 합친 값이 분산이다.\n",
    "        \n",
    "    - 표준편차 : 분산에 루트를 씌운 값"
   ]
  },
  {
   "attachments": {},
   "cell_type": "markdown",
   "metadata": {},
   "source": [
    "배열 조건 검색 any( )\n",
    "\n",
    "    - 배열에 특정 조건을 만족하는 원소가 1개 이상이면 True, 아니면 False"
   ]
  },
  {
   "cell_type": "code",
   "execution_count": 28,
   "metadata": {},
   "outputs": [
    {
     "data": {
      "text/plain": [
       "True"
      ]
     },
     "execution_count": 28,
     "metadata": {},
     "output_type": "execute_result"
    }
   ],
   "source": [
    "obj = np.array([[1.9, -0.6, -0.7, 0.55, -0.9]\n",
    "               ,[-0.14, 0.04, -0.6, -1.4, 0.9]\n",
    "               ,[0.1, 0.56, -0.78, 0.27, 0.6]])\n",
    "np.any(obj > 0)"
   ]
  },
  {
   "attachments": {},
   "cell_type": "markdown",
   "metadata": {},
   "source": [
    "배열 조건 검색 all( )\n",
    "\n",
    "    - 배열에 특정 조건을 모든 원소가 만족하면 True, 아니면 False"
   ]
  },
  {
   "cell_type": "code",
   "execution_count": 29,
   "metadata": {},
   "outputs": [
    {
     "data": {
      "text/plain": [
       "False"
      ]
     },
     "execution_count": 29,
     "metadata": {},
     "output_type": "execute_result"
    }
   ],
   "source": [
    "obj = np.array([[1.9, -0.6, -0.7, 0.55, -0.9]\n",
    "               ,[-0.14, 0.04, -0.6, -1.4, 0.9]\n",
    "               ,[0.1, 0.56, -0.78, 0.27, 0.6]])\n",
    "np.all(obj > 0)"
   ]
  },
  {
   "attachments": {},
   "cell_type": "markdown",
   "metadata": {},
   "source": [
    "배열 조건 검색 where( )\n",
    "\n",
    "    - 배열에 특정 조건을 만족하는 것과 그렇지 않는 것에 대한 서로 다른 결과를 출력"
   ]
  },
  {
   "cell_type": "code",
   "execution_count": 30,
   "metadata": {},
   "outputs": [
    {
     "data": {
      "text/plain": [
       "array([[1.9 , 0.  , 0.  , 0.55, 0.  ],\n",
       "       [0.  , 0.04, 0.  , 0.  , 0.9 ],\n",
       "       [0.1 , 0.56, 0.  , 0.27, 0.6 ]])"
      ]
     },
     "execution_count": 30,
     "metadata": {},
     "output_type": "execute_result"
    }
   ],
   "source": [
    "obj = np.array([[1.9, -0.6, -0.7, 0.55, -0.9]\n",
    "               ,[-0.14, 0.04, -0.6, -1.4, 0.9]\n",
    "               ,[0.1, 0.56, -0.78, 0.27, 0.6]])\n",
    "np.where(obj > 0, obj, 0)\n",
    "# 0 보다 크면 원소값 그대로 사용하고 0 이하면 0 으로 설정"
   ]
  },
  {
   "attachments": {},
   "cell_type": "markdown",
   "metadata": {},
   "source": [
    "배열의 모양 변경 (차원 변경)"
   ]
  },
  {
   "cell_type": "code",
   "execution_count": 31,
   "metadata": {},
   "outputs": [
    {
     "data": {
      "text/plain": [
       "array([[1, 2, 3]])"
      ]
     },
     "execution_count": 31,
     "metadata": {},
     "output_type": "execute_result"
    }
   ],
   "source": [
    "obj = np.array([[1,2,3,]])\n",
    "obj"
   ]
  },
  {
   "cell_type": "code",
   "execution_count": 32,
   "metadata": {},
   "outputs": [
    {
     "data": {
      "text/plain": [
       "array([[1],\n",
       "       [2],\n",
       "       [3]])"
      ]
     },
     "execution_count": 32,
     "metadata": {},
     "output_type": "execute_result"
    }
   ],
   "source": [
    "obj = np.array([[1,2,3,]])\n",
    "obj.reshape(3,1)"
   ]
  },
  {
   "cell_type": "code",
   "execution_count": 33,
   "metadata": {},
   "outputs": [
    {
     "data": {
      "text/plain": [
       "array([0, 1, 2, 3, 4, 5, 6, 7, 8])"
      ]
     },
     "execution_count": 33,
     "metadata": {},
     "output_type": "execute_result"
    }
   ],
   "source": [
    "np.arange(9)"
   ]
  },
  {
   "cell_type": "code",
   "execution_count": 34,
   "metadata": {},
   "outputs": [
    {
     "data": {
      "text/plain": [
       "array([[0, 1, 2],\n",
       "       [3, 4, 5],\n",
       "       [6, 7, 8]])"
      ]
     },
     "execution_count": 34,
     "metadata": {},
     "output_type": "execute_result"
    }
   ],
   "source": [
    "np.arange(9).reshape(3,3)"
   ]
  },
  {
   "attachments": {},
   "cell_type": "markdown",
   "metadata": {},
   "source": [
    "브로드캐스팅 : 일정 조건만 맞으면 서로 다른 모양의 배열끼리 연산할 수 있도록 하는 기능\n",
    "\n",
    "    - 한 배열의 차원이 1일때\n",
    "    - 첫 번째 배열의 행의 개수와 두번째 배열의 열의 개수가 같을 때"
   ]
  },
  {
   "cell_type": "code",
   "execution_count": 35,
   "metadata": {},
   "outputs": [
    {
     "data": {
      "text/plain": [
       "array([[2, 3, 4]])"
      ]
     },
     "execution_count": 35,
     "metadata": {},
     "output_type": "execute_result"
    }
   ],
   "source": [
    "# 배열 + 스칼라 값\n",
    "from numpy.core.multiarray import array\n",
    "obj = array([[1,2,3]])\n",
    "obj_result = obj + 1\n",
    "obj_result"
   ]
  },
  {
   "cell_type": "code",
   "execution_count": 36,
   "metadata": {},
   "outputs": [
    {
     "data": {
      "text/plain": [
       "array([[ 0,  2,  4],\n",
       "       [ 3,  5,  7],\n",
       "       [ 6,  8, 10]])"
      ]
     },
     "execution_count": 36,
     "metadata": {},
     "output_type": "execute_result"
    }
   ],
   "source": [
    "# 배열 (3,3) + 배열 (1,3) -> 뒷 배열의 행이 1이므로 브로드캐스팅 가능\n",
    "obj = np.arange(9).reshape(3,3) + np.arange(3)\n",
    "obj"
   ]
  },
  {
   "cell_type": "code",
   "execution_count": 37,
   "metadata": {},
   "outputs": [
    {
     "data": {
      "text/plain": [
       "array([[1, 2, 3],\n",
       "       [2, 3, 4],\n",
       "       [3, 4, 5]])"
      ]
     },
     "execution_count": 37,
     "metadata": {},
     "output_type": "execute_result"
    }
   ],
   "source": [
    "# 배열 (3,1) + 배열 (1,3) -> 첫 번째 배열의 행의 개수와 두 번째 배열의 열의 개수가 같을 때\n",
    "obj = np.array([[1,2,3]])\n",
    "obj.reshape(3,1) + np.arange(3)"
   ]
  },
  {
   "cell_type": "code",
   "execution_count": 38,
   "metadata": {},
   "outputs": [
    {
     "data": {
      "text/plain": [
       "array([[19.23,  0.  ,  0.  ,  5.55,  0.  ],\n",
       "       [ 0.  ,  0.  ,  0.  ,  0.  ,  9.34],\n",
       "       [ 0.  ,  5.65,  0.  ,  0.  ,  6.86],\n",
       "       [11.45,  0.  ,  5.24,  0.  , 13.43],\n",
       "       [ 5.64,  0.  ,  8.65, 13.44,  0.  ]])"
      ]
     },
     "execution_count": 38,
     "metadata": {},
     "output_type": "execute_result"
    }
   ],
   "source": [
    "# 문제풀이\n",
    "obj = np.array([[1.923, -0.612, -0.742, 0.555, -0.942]\n",
    "               ,[-0.1412, 0.0486, -0.636, -1.464, 0.934]\n",
    "               ,[0.123, 0.5653, -0.7844, 0.2716, 0.686]\n",
    "               ,[1.145, 0.1265, 0.5236, -1.253, 1.343]\n",
    "               ,[0.5643, -0.4342, 0.8648, 1.344, -254]])\n",
    "obj2 = np.where(obj > 0.5, obj, 0)\n",
    "obj_result = obj2 * 10\n",
    "obj_result = np.round(obj_result, 2)\n",
    "obj_result"
   ]
  },
  {
   "cell_type": "code",
   "execution_count": 39,
   "metadata": {},
   "outputs": [
    {
     "data": {
      "text/plain": [
       "array([[6.64, 7.92, 0.  , 0.  , 6.7 ],\n",
       "       [9.01, 0.  , 8.69, 7.32, 0.  ],\n",
       "       [0.  , 8.28, 6.7 , 0.  , 0.  ],\n",
       "       [0.  , 7.04, 5.24, 0.  , 9.39],\n",
       "       [0.  , 6.32, 5.37, 0.  , 0.  ]])"
      ]
     },
     "execution_count": 39,
     "metadata": {},
     "output_type": "execute_result"
    }
   ],
   "source": [
    "# 문제풀이\n",
    "arr = np.random.random((5,5))\n",
    "arr[arr < 0.5] = 0\n",
    "arr *= 10\n",
    "arr = np.round(arr, 2)\n",
    "arr"
   ]
  }
 ],
 "metadata": {
  "kernelspec": {
   "display_name": "Python 3",
   "language": "python",
   "name": "python3"
  },
  "language_info": {
   "codemirror_mode": {
    "name": "ipython",
    "version": 3
   },
   "file_extension": ".py",
   "mimetype": "text/x-python",
   "name": "python",
   "nbconvert_exporter": "python",
   "pygments_lexer": "ipython3",
   "version": "3.11.4"
  },
  "orig_nbformat": 4
 },
 "nbformat": 4,
 "nbformat_minor": 2
}
